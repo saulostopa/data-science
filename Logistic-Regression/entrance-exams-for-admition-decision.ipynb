{
  "nbformat": 4,
  "nbformat_minor": 0,
  "metadata": {
    "kernelspec": {
      "display_name": "Python 3",
      "language": "python",
      "name": "python3"
    },
    "language_info": {
      "codemirror_mode": {
        "name": "ipython",
        "version": 3
      },
      "file_extension": ".py",
      "mimetype": "text/x-python",
      "name": "python",
      "nbconvert_exporter": "python",
      "pygments_lexer": "ipython3",
      "version": "3.6.7"
    },
    "varInspector": {
      "cols": {
        "lenName": 16,
        "lenType": 16,
        "lenVar": 40
      },
      "kernels_config": {
        "python": {
          "delete_cmd_postfix": "",
          "delete_cmd_prefix": "del ",
          "library": "var_list.py",
          "varRefreshCmd": "print(var_dic_list())"
        },
        "r": {
          "delete_cmd_postfix": ") ",
          "delete_cmd_prefix": "rm(",
          "library": "var_list.r",
          "varRefreshCmd": "cat(var_dic_list()) "
        }
      },
      "position": {
        "height": "350px",
        "left": "929px",
        "right": "20px",
        "top": "130px",
        "width": "350px"
      },
      "types_to_exclude": [
        "module",
        "function",
        "builtin_function_or_method",
        "instance",
        "_Feature"
      ],
      "window_display": false
    },
    "colab": {
      "name": "Regressao_logistica_exercicio.ipynb",
      "provenance": [],
      "collapsed_sections": [],
      "include_colab_link": true
    }
  },
  "cells": [
    {
      "cell_type": "markdown",
      "metadata": {
        "id": "view-in-github",
        "colab_type": "text"
      },
      "source": [
        "<a href=\"https://colab.research.google.com/github/saulostopa/data-science/blob/main/Logistic-Regression/entrance-exams-for-admition-decision.ipynb\" target=\"_parent\"><img src=\"https://colab.research.google.com/assets/colab-badge.svg\" alt=\"Open In Colab\"/></a>"
      ]
    },
    {
      "cell_type": "markdown",
      "metadata": {
        "id": "I_cEf-rwTpxV"
      },
      "source": [
        "# Exercícios programa - Regressão logística\n",
        "\n",
        "Implemente o algoritmo gradiente descendente para regressão logística e aplique seu algoritmo para o conjunto de dados dados3.csv.\n",
        "\n"
      ]
    },
    {
      "cell_type": "markdown",
      "metadata": {
        "id": "--feSsQ4TpxZ"
      },
      "source": [
        "### Carregando bibliotecas principais"
      ]
    },
    {
      "cell_type": "code",
      "metadata": {
        "ExecuteTime": {
          "end_time": "2018-08-09T05:45:02.479472Z",
          "start_time": "2018-08-09T05:45:02.202168Z"
        },
        "id": "odEvGOnBTpxa"
      },
      "source": [
        "# carregando bibliotecas\n",
        "import numpy as np\n",
        "import pandas as pd\n",
        "import matplotlib.patches as mpatches\n",
        "import matplotlib.pyplot as plt\n",
        "from IPython.display import HTML\n",
        "from matplotlib.colors import ListedColormap"
      ],
      "execution_count": null,
      "outputs": []
    },
    {
      "cell_type": "markdown",
      "metadata": {
        "id": "bBKBex6STpxb"
      },
      "source": [
        "## Exercicíos: Implemente as seguintes funções: `sigmoid` e `funcaoCusto`"
      ]
    },
    {
      "cell_type": "markdown",
      "metadata": {
        "id": "uRlWHgzBTpxb"
      },
      "source": [
        "Para facilitar, seguem algumas funções e definições matemáticas básicas que podem auxiliar no desenvolvimento. \n",
        "\n",
        "> Função de normalização `zscore`"
      ]
    },
    {
      "cell_type": "markdown",
      "metadata": {
        "id": "tClHvNVoTpxc"
      },
      "source": [
        "<font>$$\\mbox{zscore}(x^{(i)})=\\frac{x^{(i)}-\\mu(x^{(i)}_j)}{\\sigma(x^{(i)}_j)} $$</font>"
      ]
    },
    {
      "cell_type": "code",
      "metadata": {
        "id": "b8mmQtbITpxc"
      },
      "source": [
        "#\n",
        "# Calculo da normalização zscore\n",
        "#\n",
        "# X    = conjunto de características\n",
        "# mean = média das colunas\n",
        "# std  = desvio padrão das colunas\n",
        "#\n",
        "def zscore(X, mean=None, std=None):        \n",
        "    if mean is None:\n",
        "        mean = np.mean(X[:, 1:], axis=0) \n",
        "    if std is None:\n",
        "        std = np.std(X[:, 1:], axis=0) \n",
        "    X[:, 1:]=(X[:, 1:]-mean)/(std)\n",
        "    return (X, mean, std)"
      ],
      "execution_count": null,
      "outputs": []
    },
    {
      "cell_type": "markdown",
      "metadata": {
        "id": "A5QlTwgqTpxd"
      },
      "source": [
        "> **Exercício**: Implementar a função `sigmoid`\n",
        "\n",
        "<font size=2>$$ \\mbox{sigmoid}(z)=\\frac{1}{1+e^{-z}} $$</font>"
      ]
    },
    {
      "cell_type": "code",
      "metadata": {
        "id": "SogOd7iUTpxd"
      },
      "source": [
        "#\n",
        "# Função sigmóide = função logística\n",
        "# \n",
        "# z = vetor de valores (nosso caso $\\theta^T X$)\n",
        "#\n",
        "def sigmoid(z):\n",
        "    out = 0\n",
        "\n",
        "    #adicione seu código\n",
        "\n",
        "    return out"
      ],
      "execution_count": null,
      "outputs": []
    },
    {
      "cell_type": "markdown",
      "metadata": {
        "id": "4KSbAi91Tpxe"
      },
      "source": [
        "> Função hipótese\n",
        "<font size=2>$$ \\mbox{hipotese}(x, \\theta)=\\mbox{sigmoid}(\\theta^Tx) $$</font>"
      ]
    },
    {
      "cell_type": "code",
      "metadata": {
        "id": "zMA8bNmvTpxe"
      },
      "source": [
        "#\n",
        "# Hipótese da regressão logística\n",
        "#\n",
        "# X      = conjunto de características\n",
        "# thetas = vetor de pesos\n",
        "#\n",
        "def hipotese(X, thetas):\n",
        "    return sigmoid( X.dot(thetas) )"
      ],
      "execution_count": null,
      "outputs": []
    },
    {
      "cell_type": "markdown",
      "metadata": {
        "id": "C30ilxxGTpxf"
      },
      "source": [
        "> **Exercício**: Implemente a função de custo\n",
        "\n"
      ]
    },
    {
      "cell_type": "markdown",
      "metadata": {
        "id": "FPHQE4IzTpxf"
      },
      "source": [
        "<font size=2>$$\\mbox{funcaoCusto}(X, Y, m, \\theta)=-\\frac{1}{m}\\sum_{i=1}^m y^{(i)}\\log(\\mbox{hipotese}(x^{(i)}, \\theta)) + (1-y^{(i)})\\log(1-\\mbox{hipotese}(x^{(i)}, \\theta)) $$</font> "
      ]
    },
    {
      "cell_type": "code",
      "metadata": {
        "id": "r-AIkIGETpxg"
      },
      "source": [
        "#\n",
        "# Função custo\n",
        "#\n",
        "# X      = conjunto de características\n",
        "# Y      = rótulos\n",
        "# m      = quantidade de linhas de X\n",
        "# thetas = vetor de pesos\n",
        "#\n",
        "def funcaoCusto(X, Y, m, thetas):\n",
        "    custo = 0\n",
        "    \n",
        "    # adicione seu código\n",
        "\n",
        "    return custo\n",
        "    "
      ],
      "execution_count": null,
      "outputs": []
    },
    {
      "cell_type": "markdown",
      "metadata": {
        "id": "83k0RKF2HyUv"
      },
      "source": [
        "> Teste sua implementação com o código abaixo"
      ]
    },
    {
      "cell_type": "code",
      "metadata": {
        "id": "IVxgS0VsHw5l"
      },
      "source": [
        "# conjunto de dados\n",
        "X =  np.array([\n",
        "       [ 1.        , -1.60224763,  0.63834112],\n",
        "       [ 1.        , -1.82625564, -1.2075414 ],\n",
        "       [ 1.        , -1.53903969,  0.3612943 ],\n",
        "       [ 1.        , -0.28210129,  1.0863683 ],\n",
        "       [ 1.        ,  0.69152826,  0.49337794],\n",
        "       [ 1.        , -1.06199728, -0.5357394 ],\n",
        "       [ 1.        , -0.23437234,  1.63818413],\n",
        "       [ 1.        ,  0.4845113 , -1.06373024],\n",
        "       [ 1.        ,  0.53998666,  1.14651105],\n",
        "       [ 1.        ,  0.97044832, -1.22709853]\n",
        "      ])\n",
        "\n",
        "Y = np.array([0., 0., 0., 1., 1., 0., 1., 1., 1., 1.])\n",
        "thetas = np.array([1.20754844, 4.00008645, 3.41594561])\n",
        "\n",
        "print(\"Para esses dados sua função precisa ter a resposta:\", 0.1417129370388809)\n",
        "print(\"Saida da sua função:\", funcaoCusto(X, Y, 10, thetas))"
      ],
      "execution_count": null,
      "outputs": []
    },
    {
      "cell_type": "markdown",
      "metadata": {
        "id": "6x2l8qKWTpxe"
      },
      "source": [
        "> Função `mapPolAll` para transformar as características em polinomias."
      ]
    },
    {
      "cell_type": "code",
      "metadata": {
        "id": "QA397V4DTpxf"
      },
      "source": [
        "#\n",
        "# Mapeamento de um par de características (x_i, x_j) \n",
        "#\n",
        "# X = conjunto de características\n",
        "# i = índice da característica x_i\n",
        "# j = índice da característica x_j\n",
        "# d = grau do polinômio\n",
        "#\n",
        "def mapPol(X, i, j, d):\n",
        "    x1 = X[:, i]\n",
        "    x2 = X[:, j]\n",
        "    x1.shape = (x1.size,1)\n",
        "    x2.shape = (x2.size,1)\n",
        "    Xnew = np.empty((x1.size, 0))\n",
        "    for n in range(2, d+1):    \n",
        "        for m in range(n+1):\n",
        "            Xnew = np.append(Xnew,x1**(n-m)*x2**m,axis=1)\n",
        "    return np.c_[X, Xnew]\n",
        "\n",
        "# \n",
        "# Mapeia todo os pares do conjunto X para um polinômio de dado grau d\n",
        "#\n",
        "# X = conjunto de características\n",
        "# d = grau do polinômio\n",
        "#\n",
        "def mapPolAll(X, d):\n",
        "    if(d <= 1):\n",
        "        return X\n",
        "    l = np.size(X, 1)\n",
        "    for i in range(1, l-1):\n",
        "        for j in range(i+1, l):\n",
        "            X = mapPol(X, i, j, d)\n",
        "    return X"
      ],
      "execution_count": null,
      "outputs": []
    },
    {
      "cell_type": "markdown",
      "metadata": {
        "id": "fSqXx91dTpxg"
      },
      "source": [
        "> Função para calcular a derivada da função de custo. \n",
        "<font size=2>$$\\mbox{derivadaFunçãoCusto}(X, Y, m,\\theta)=\\frac{1}{m}\\sum_{i=1}^m(\\mbox{hipotese}(x^{(i)})-y^{(i)})x_j^{(i)} $$</font>"
      ]
    },
    {
      "cell_type": "code",
      "metadata": {
        "id": "6E2JPFaSTpxh"
      },
      "source": [
        "#\n",
        "# Derivada da função custo\n",
        "#\n",
        "# X      = conjunto de características\n",
        "# Y      = rótulos\n",
        "# m      = quantidade de linhas de X\n",
        "# thetas = vetor de pesos\n",
        "#\n",
        "def derivadaDaFuncaoCusto(X, Y, m, thetas):\n",
        "    h = hipotese(X, thetas)  \n",
        "    return (h-Y).dot(X)/m"
      ],
      "execution_count": null,
      "outputs": []
    },
    {
      "cell_type": "markdown",
      "metadata": {
        "id": "PyV-yRy6Tpxh"
      },
      "source": [
        "> Algoritmo do gradiente descendente (método estocástico). Note que, a regra de atualização é idêntica a  da regressão linear. <br><br>\n",
        "\n",
        "| <br>&nbsp;&nbsp;&nbsp;&nbsp; SGD (Gradiente Descendente Estocástico) &nbsp;&nbsp;&nbsp;&nbsp; <br><br> |\n",
        "| ----- |\n",
        "| <br>&nbsp;&nbsp; $\\textbf{for } k = 1 : \\text{ Número_Epocas}$ <br> &nbsp;&nbsp;&nbsp;&nbsp;&nbsp;&nbsp; $\\textbf{for } j = 0 : n $<br> &nbsp;&nbsp;&nbsp;&nbsp;&nbsp;&nbsp;&nbsp;&nbsp;&nbsp;&nbsp; $\\text{Temp}_j = \\theta_j - \\alpha  \\dfrac{\\partial}{\\partial \\theta_j} J(\\theta)$ <br> &nbsp;&nbsp;&nbsp;&nbsp;&nbsp;&nbsp; $\\textbf{end}$ <br> &nbsp;&nbsp;&nbsp;&nbsp;&nbsp;&nbsp; $ \\theta=\\text{Temp} $<br> &nbsp;&nbsp; $\\textbf{end}$  <br><br> |\n",
        "| |\n",
        "\n",
        "onde $ x^{(i)} \\in \\mathbb{R}^n $ e $ y^{(i)} \\in \\{0, 1\\} $."
      ]
    },
    {
      "cell_type": "code",
      "metadata": {
        "ExecuteTime": {
          "end_time": "2018-08-09T05:45:08.727576Z",
          "start_time": "2018-08-09T05:45:08.054135Z"
        },
        "id": "BSOUz_nvTpxh"
      },
      "source": [
        "#\n",
        "# Algoritmo do Gradiente Descendente Estocastico (SGD)\n",
        "#\n",
        "# X         = conjunto de características\n",
        "# Y         = rótulos\n",
        "# m         = quantidade de linhas de X\n",
        "# numEpocas = número de épocas\n",
        "# alpha     = taxa de aprendizagem\n",
        "#\n",
        "def gradienteDescendente(X, Y, m, numEpocas, alpha):\n",
        "    n = np.size(X, 1)        \n",
        "    thetas = np.zeros(n)    \n",
        "    #thetas = np.random.normal(loc=0, scale=0.01, size=n)    \n",
        "    J_historico = []\n",
        "    \n",
        "    for iteracao in range(numEpocas):        \n",
        "        thetas = thetas - alpha * derivadaDaFuncaoCusto(X, Y, m, thetas)\n",
        "        J_historico = J_historico + [funcaoCusto(X, Y, m, thetas)]\n",
        "    \n",
        "    return [thetas, J_historico]\n"
      ],
      "execution_count": null,
      "outputs": []
    },
    {
      "cell_type": "markdown",
      "metadata": {
        "id": "9vbVEKw8Tpxi"
      },
      "source": [
        "> Função para realizar a predição\n",
        "$$ \\mbox{predição}(x, \\theta) =\\left\\{ \\begin{array}{cc}1, &\\text{se } \\mbox{hipotese}(x, \\theta)\\geq 0.5 \\\\ 0,&\\text{caso contrário}\\hspace{1.5cm} \\end{array}\\right. $$"
      ]
    },
    {
      "cell_type": "code",
      "metadata": {
        "id": "zHRYuIOoTpxi"
      },
      "source": [
        "#\n",
        "# Predição\n",
        "#\n",
        "# X = conjunto de características\n",
        "# thetas = vetor de pesos\n",
        "#\n",
        "def predicao(X, thetas):\n",
        "    return np.where(hipotese(X, thetas) >= 0.5, 1, 0)      "
      ],
      "execution_count": null,
      "outputs": []
    },
    {
      "cell_type": "markdown",
      "metadata": {
        "id": "8Bgtv_I1Tpxi"
      },
      "source": [
        "> Função para plotar a fronteira de decisão em 2D"
      ]
    },
    {
      "cell_type": "code",
      "metadata": {
        "id": "LnecAGp8Tpxi"
      },
      "source": [
        "\n",
        "#\n",
        "# Plota fronteira de decisão em 2D\n",
        "#\n",
        "# x1               = Característica 1\n",
        "# x2               = Característica 2\n",
        "# Y                = rótulos\n",
        "# thetas           = vetor de pesos\n",
        "# preProcessamento = uma função para transformar os dados, ex: normalizar ou elevar\n",
        "#                    características\n",
        "# resolution       = resolução (incremento para construir o grid, valores muito baixos\n",
        "#                         podem gastar muita mémoria)\n",
        "#\n",
        "def plotDecisionRegions(x1, \n",
        "                        x2, \n",
        "                        Y, \n",
        "                        thetas, \n",
        "                        preProcessamento, \n",
        "                        resolution=0.05):\n",
        "    \n",
        "    classes = np.unique(Y)    \n",
        "    markers = (\"s\", \"x\", \"o\", \"^\", \"v\", \"^\", \"h\", \"H\")\n",
        "    colors = (\"red\", \"blue\", \"lightgreen\", \"gray\", \"cyan\", \"green\", \"yellow\", \"pink\")\n",
        "    cmap = ListedColormap(colors[:len(np.unique(Y))])\n",
        "        \n",
        "    # plot the decision surface\n",
        "    x1_min, x1_max = x1.min() - 1, x1.max() + 1\n",
        "    x2_min, x2_max = x2.min() - 1, x2.max() + 1\n",
        "    xx1, xx2 = np.meshgrid(np.arange(x1_min, x1_max, resolution), \n",
        "                           np.arange(x2_min, x2_max, resolution))\n",
        "        \n",
        "    zz = np.array([np.ones(np.size(xx1)), xx1.ravel(), xx2.ravel()]).T       \n",
        "    Z = predicao(preProcessamento(zz), thetas)    \n",
        "    Z = Z.reshape(xx1.shape)\n",
        "\n",
        "    plt.contourf(xx1, xx2, Z, alpha=0.3, cmap=cmap)\n",
        "    plt.xlim(xx1.min(), xx1.max())\n",
        "    plt.ylim(xx2.min(), xx2.max())\n",
        "\n",
        "    for idx, cl in enumerate(np.sort(np.unique(Y))):\n",
        "        plt.scatter(x=x1[Y == cl], \n",
        "                    y=x2[Y == cl],\n",
        "                    alpha=0.8,\n",
        "                    marker=markers[idx], label=classes[idx],\n",
        "                    edgecolor=\"black\")\n",
        "\n",
        "#\n",
        "# Calcula matriz de confusão binária\n",
        "#\n",
        "#             (conhecido)\n",
        "#               p    n\n",
        "#  (predito) p [tp  fp]\n",
        "#            n [fn  tn]\n",
        "#\n",
        "#  X      = conjunto de características\n",
        "#  Y      = rótulos\n",
        "#  thetas = vetor de pesos\n",
        "#\n",
        "def binaryConfusionMatrix(X, Y, thetas):\n",
        "    p = predicao(X, thetas)\n",
        "    \n",
        "    pos = np.where(Y == 1)\n",
        "    neg = np.where(Y == 0)\n",
        "    \n",
        "    tp = np.size(np.where(p[pos] == 1))\n",
        "    fp = np.size(np.where(p[pos] == 0))\n",
        "    \n",
        "    tn = np.size(np.where(p[neg] == 0))\n",
        "    fn = np.size(np.where(p[neg] == 1))\n",
        "    \n",
        "    return np.array([[tp, fp], [fn, tn]])\n",
        "\n",
        "#\n",
        "# Calcula acurácia do classificador utilizando\n",
        "#\n",
        "#  X      = conjunto de características\n",
        "#  Y      = rótulos\n",
        "#  thetas = vetor de pesos\n",
        "#\n",
        "def acuracia(X, Y, thetas):\n",
        "    M = binaryConfusionMatrix(X, Y, thetas)\n",
        "    return 100 * (M.diagonal().sum()/M.sum())"
      ],
      "execution_count": null,
      "outputs": []
    },
    {
      "cell_type": "markdown",
      "metadata": {
        "id": "Jj2SOhp9Tpxj"
      },
      "source": [
        "# Procedimento principal"
      ]
    },
    {
      "cell_type": "markdown",
      "metadata": {
        "id": "vtRIpbHsTpxj"
      },
      "source": [
        "### Carregando os dados"
      ]
    },
    {
      "cell_type": "code",
      "metadata": {
        "colab": {
          "base_uri": "https://localhost:8080/"
        },
        "id": "6fBaJDX1WqGV",
        "outputId": "74b6804c-d1e3-458f-d7e3-e5380d4cfd17"
      },
      "source": [
        "!wget \"https://www.dropbox.com/s/efaqmq9iyx2topn/dados3.csv\""
      ],
      "execution_count": null,
      "outputs": [
        {
          "output_type": "stream",
          "name": "stdout",
          "text": [
            "--2021-10-07 18:32:14--  https://www.dropbox.com/s/efaqmq9iyx2topn/dados3.csv\n",
            "Resolving www.dropbox.com (www.dropbox.com)... 162.125.5.18, 2620:100:601d:18::a27d:512\n",
            "Connecting to www.dropbox.com (www.dropbox.com)|162.125.5.18|:443... connected.\n",
            "HTTP request sent, awaiting response... 301 Moved Permanently\n",
            "Location: /s/raw/efaqmq9iyx2topn/dados3.csv [following]\n",
            "--2021-10-07 18:32:14--  https://www.dropbox.com/s/raw/efaqmq9iyx2topn/dados3.csv\n",
            "Reusing existing connection to www.dropbox.com:443.\n",
            "HTTP request sent, awaiting response... 302 Found\n",
            "Location: https://ucadbc8ae255ab5f45c29ea2c852.dl.dropboxusercontent.com/cd/0/inline/BXl7fkKgPMaKOhkNNAevrqDWG5luS_xs7OsKav-FLAMzgoJchoQl-vYnJVEUj20tB0YRL3oZTc0ci0CWmz-s4F1EPgM9PAbRIk2FEpSyykm4YMpNhyXIrTUtvNiBW72BZde8n_OmF_iTAmplhMtthr_Z/file# [following]\n",
            "--2021-10-07 18:32:14--  https://ucadbc8ae255ab5f45c29ea2c852.dl.dropboxusercontent.com/cd/0/inline/BXl7fkKgPMaKOhkNNAevrqDWG5luS_xs7OsKav-FLAMzgoJchoQl-vYnJVEUj20tB0YRL3oZTc0ci0CWmz-s4F1EPgM9PAbRIk2FEpSyykm4YMpNhyXIrTUtvNiBW72BZde8n_OmF_iTAmplhMtthr_Z/file\n",
            "Resolving ucadbc8ae255ab5f45c29ea2c852.dl.dropboxusercontent.com (ucadbc8ae255ab5f45c29ea2c852.dl.dropboxusercontent.com)... 162.125.5.15, 2620:100:601d:15::a27d:50f\n",
            "Connecting to ucadbc8ae255ab5f45c29ea2c852.dl.dropboxusercontent.com (ucadbc8ae255ab5f45c29ea2c852.dl.dropboxusercontent.com)|162.125.5.15|:443... connected.\n",
            "HTTP request sent, awaiting response... 200 OK\n",
            "Length: 3775 (3.7K) [text/plain]\n",
            "Saving to: ‘dados3.csv.1’\n",
            "\n",
            "dados3.csv.1        100%[===================>]   3.69K  --.-KB/s    in 0s      \n",
            "\n",
            "2021-10-07 18:32:15 (510 MB/s) - ‘dados3.csv.1’ saved [3775/3775]\n",
            "\n"
          ]
        }
      ]
    },
    {
      "cell_type": "markdown",
      "metadata": {
        "id": "rMVF7rodE6NF"
      },
      "source": [
        "> Função para separar os dados em dois conjuntos: **treinamento** e **teste**"
      ]
    },
    {
      "cell_type": "code",
      "metadata": {
        "id": "2U_7WA7l8aHb"
      },
      "source": [
        "# Função para separar os dados em dois conjuntos: treinamento e teste\n",
        "def train_test_split(data, test_size=0.3):       \n",
        "  np.random.shuffle(data.values)\n",
        "  limiar = int((len(dados)+1) * (1 - test_size)) \n",
        "  train_data = data[ : limiar] \n",
        "  test_data = data[limiar : ]\n",
        "  \n",
        "  X_train = train_data.values[:, 0:-1]\n",
        "  Y_train = train_data.values[:, -1]\n",
        "\n",
        "  X_test = test_data.values[:, 0:-1]\n",
        "  Y_test = test_data.values[:, -1]\n",
        "\n",
        "  return X_train, X_test, Y_train, Y_test\n",
        "\n"
      ],
      "execution_count": null,
      "outputs": []
    },
    {
      "cell_type": "markdown",
      "metadata": {
        "id": "x7QGn-OSFCZ1"
      },
      "source": [
        "## Procedimentos para o treinamento do algoritmo"
      ]
    },
    {
      "cell_type": "code",
      "metadata": {
        "ExecuteTime": {
          "end_time": "2018-08-09T05:45:04.941587Z",
          "start_time": "2018-08-09T05:45:04.929005Z"
        },
        "colab": {
          "base_uri": "https://localhost:8080/",
          "height": 1000
        },
        "id": "uaLaG7l5Tpxj",
        "outputId": "788b1c65-358b-4825-d1a7-0023a33facdd"
      },
      "source": [
        "# carregando arquivos de dados\n",
        "dados = pd.read_csv(\"dados3.csv\", sep=',', header=None, dtype=np.float64)\n",
        "\n",
        "# conjunto de dados\n",
        "X_train, X_test, Y_train, Y_test = train_test_split(dados)\n",
        "m_train = np.size(X_train, 0)\n",
        "m_test = np.size(X_test, 0)\n",
        "\n",
        "# adicionando o bias\n",
        "X_train = np.c_[ np.ones(m_train), X_train ] \n",
        "X_test = np.c_[ np.ones(m_test), X_test ] \n",
        "\n",
        "# Normalizando os dados e mapeamento polinomial\n",
        "grauPolinomio = 2\n",
        "X_train_poly = mapPolAll(np.copy(X_train), grauPolinomio) #mapeamento polinomial\n",
        "X_test_poly = mapPolAll(np.copy(X_test), grauPolinomio) #mapeamento polinomial\n",
        "[X_train_poly, mean, std] = zscore(X_train_poly)\n",
        "[X_test_poly, mean, std] = zscore(X_test_poly, mean, std) #note que aqui estamos usando a mesma média e desvio padrão dos dados de treinamento\n",
        "\n",
        "\n",
        "#########################################\n",
        "# Executando o gradiente descendente \n",
        "#####=#####Encontre os parâmetros########\n",
        "taxa_de_aprendizado = 0.1\n",
        "numEpocas = 60000\n",
        "(thetas, J_historico) = gradienteDescendente(X_train_poly, Y_train, m_train, numEpocas, taxa_de_aprendizado)\n",
        "#########################################\n",
        "\n",
        "\n",
        "##Impressoes\n",
        "print('Acuracia no conjunto de treinamento:', acuracia(X_train_poly, Y_train, thetas))\n",
        "\n",
        "\n",
        "# Plotando evolução do custo \n",
        "plt.figure(figsize=(12,10))\n",
        "plt.plot(range(numEpocas), J_historico, color='blue', label=r'Função de custo J')\n",
        "plt.xlabel(r'Número de Épocas', fontsize=18)\n",
        "plt.ylabel(r'Custo', fontsize=18)\n",
        "plt.title(r'Evolução da função de custo: $J(\\theta)=-\\frac{1}{m}\\sum_{i=1}^m y^{(i)}\\log(h_\\theta(x^{(i)})) + (1-y^{(i)})\\log(1-h_\\theta(x^{(i)})) $'+'\\n', \n",
        "          fontsize=18)\n",
        "plt.legend()\n",
        "plt.show()\n",
        "\n",
        "\n",
        "\n",
        "# Plotando fronteira de decisão\n",
        "# função de pré processamento necessária\n",
        "def preProcessamento(X, mean=mean, std=std, d=grauPolinomio):\n",
        "    X = mapPolAll(X, d=d)\n",
        "    [X, _, _] = zscore(X, mean, std)\n",
        "    return X\n",
        "\n",
        "plt.figure(figsize=(12,10))\n",
        "plt.title(r'Fronteira de decisão'+ '\\n', fontsize=18)\n",
        "plotDecisionRegions(X_train[:, 1], X_train[:, 2], Y_train, thetas, preProcessamento)\n",
        "plt.xlabel(r'$x_1$', fontsize=18)\n",
        "plt.ylabel(r'$x_2$', fontsize=18);\n",
        "\n"
      ],
      "execution_count": null,
      "outputs": [
        {
          "output_type": "stream",
          "name": "stderr",
          "text": [
            "/usr/local/lib/python3.7/dist-packages/ipykernel_launcher.py:12: RuntimeWarning: divide by zero encountered in log\n",
            "  if sys.path[0] == '':\n"
          ]
        },
        {
          "output_type": "stream",
          "name": "stdout",
          "text": [
            "Acuracia no conjunto de treinamento: 100.0\n"
          ]
        },
        {
          "output_type": "display_data",
          "data": {
            "image/png": "[encoded data removed]",
            "text/plain": [
              "<Figure size 864x720 with 1 Axes>"
            ]
          },
          "metadata": {
            "needs_background": "light"
          }
        },
        {
          "output_type": "display_data",
          "data": {
            "image/png": "[encoded data removed]",
            "text/plain": [
              "<Figure size 864x720 with 1 Axes>"
            ]
          },
          "metadata": {
            "needs_background": "light"
          }
        }
      ]
    },
    {
      "cell_type": "markdown",
      "metadata": {
        "id": "lFXNhQGLFLFx"
      },
      "source": [
        "## Procedimentos para avaliação do classificador com o conjunto de teste"
      ]
    },
    {
      "cell_type": "code",
      "metadata": {
        "id": "33emX7sUTpxk",
        "colab": {
          "base_uri": "https://localhost:8080/",
          "height": 671
        },
        "outputId": "6071eb18-ec49-45d7-c1d8-67d40ba6b5a3"
      },
      "source": [
        "##Impressoes\n",
        "print('Acuracia no conjunto de teste:', acuracia(X_test_poly, Y_test, thetas))\n",
        "\n",
        "plt.figure(figsize=(12,10))\n",
        "plt.title(r'Fronteira de decisão'+ '\\n', fontsize=18)\n",
        "plotDecisionRegions(X_test[:, 1], X_test[:, 2], Y_test, thetas, preProcessamento)\n",
        "plt.xlabel(r'$x_1$', fontsize=18)\n",
        "plt.ylabel(r'$x_2$', fontsize=18);"
      ],
      "execution_count": null,
      "outputs": [
        {
          "output_type": "stream",
          "name": "stdout",
          "text": [
            "Acuracia no conjunto de teste: 100.0\n"
          ]
        },
        {
          "output_type": "display_data",
          "data": {
            "image/png": "[encoded data removed]",
            "text/plain": [
              "<Figure size 864x720 with 1 Axes>"
            ]
          },
          "metadata": {
            "needs_background": "light"
          }
        }
      ]
    }
  ]
}